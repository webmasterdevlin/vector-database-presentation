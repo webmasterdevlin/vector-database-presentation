{
 "cells": [
  {
   "cell_type": "markdown",
   "metadata": {},
   "source": [
    "## Not using RAG\n",
    "- The model is not aware of the date today. It still thinks the present time is the date of its training."
   ]
  },
  {
   "cell_type": "code",
   "execution_count": null,
   "metadata": {},
   "outputs": [],
   "source": [
    "% pip install langchain"
   ]
  },
  {
   "cell_type": "code",
   "execution_count": 20,
   "metadata": {},
   "outputs": [
    {
     "name": "stdout",
     "output_type": "stream",
     "text": [
      "\n",
      "\n",
      "As of October 2020, there is no event scheduled for UFC 294. The next scheduled event is UFC 254, which is set to take place on October 24, 2020.\n"
     ]
    }
   ],
   "source": [
    "from langchain.llms import OpenAI\n",
    "\n",
    "llm = OpenAI(openai_api_key=\"<your key here>\")\n",
    "\n",
    "prompt = \"When is 294 UFC going to happen?\"\n",
    "\n",
    "print(llm(prompt))"
   ]
  },
  {
   "cell_type": "markdown",
   "metadata": {},
   "source": [
    "## Not using RAG\n",
    "- The example below will demonstrate that the model is hallucinating or responding an event that did not happen."
   ]
  },
  {
   "cell_type": "code",
   "execution_count": 17,
   "metadata": {},
   "outputs": [
    {
     "name": "stdout",
     "output_type": "stream",
     "text": [
      "\n",
      "\n",
      "The main card of UFC 294 was cancelled due to a positive COVID-19 test from one of the fighters on the card. Health and safety protocols were followed and the event was cancelled out of an abundance of caution.\n"
     ]
    }
   ],
   "source": [
    "from langchain.llms import OpenAI\n",
    "\n",
    "llm = OpenAI(openai_api_key=\"<your key here>\")\n",
    "\n",
    "prompt = \"Why the main card of 294 ufc fight was cancelled?\"\n",
    "\n",
    "print(llm(prompt))\n"
   ]
  },
  {
   "cell_type": "markdown",
   "metadata": {},
   "source": [
    "## Using RAG with data and a prompt template\n",
    "- The sample below improves the quality of the response"
   ]
  },
  {
   "cell_type": "code",
   "execution_count": 21,
   "metadata": {},
   "outputs": [
    {
     "name": "stdout",
     "output_type": "stream",
     "text": [
      " \n",
      "\n",
      "It appears that the main card of UFC 294 was cancelled because Charles Oliveira suffered a laceration to his face which forced him out of the fight. Alexander Volkanovski stepped in to take his place.\n"
     ]
    }
   ],
   "source": [
    "llm = OpenAI(openai_api_key=\"<your key here>\")\n",
    "\n",
    "user_input = 'Why the main card of 294 ufc fight was cancelled?'\n",
    "vector_db_result = 'Charles Oliveira suffered a nasty laceration that forced him out of the UFC 294 main event vs. Islam Makhachev. Shortly after UFC CEO Dana White confirmed Alexander Volkanovski stepped in, Oliveira (34-9 MMA, 22-9 UFC) shared a pair of images of the gash, as well as a brief apology video where he sported a bandage on his left brow. “Sorry to everyone but you know everything,” Oliveira wrote in Portuguese.'\n",
    "note = 'Be concise.'\n",
    "\n",
    "prompt_template = f\"\"\"Act as a search copilot, be helpful and informative. \\n\n",
    "-------------- \\n\n",
    "Based on the user's query below: \\n\n",
    "'{user_input}'. \\n\n",
    "Here is some information about the query. It has the following information: \\n\n",
    "{vector_db_result} \\n\n",
    "------------- \\n\n",
    "note: {note}\"\"\"\n",
    "\n",
    "print(llm(prompt_template))"
   ]
  },
  {
   "cell_type": "markdown",
   "metadata": {},
   "source": [
    "## Using RAG without data\n",
    "- The below sample will make the model say that it does not know the answer if the model does not know the answer and there is no information provided."
   ]
  },
  {
   "cell_type": "code",
   "execution_count": 22,
   "metadata": {},
   "outputs": [
    {
     "name": "stdout",
     "output_type": "stream",
     "text": [
      "\n",
      "\n",
      "I'm sorry, I'm not able to provide any information about the main card of the 294 UFC fight being cancelled. However, you may be able to find more information by searching through news articles or through the UFC website.\n"
     ]
    }
   ],
   "source": [
    "llm = OpenAI(openai_api_key=\"<your key here>\")\n",
    "\n",
    "user_input = 'Why the main card of 294 ufc fight was cancelled?'\n",
    "vector_db_result = 'No information found'\n",
    "note = 'Be concise and dont add any other details if you don\\'t know about it.'\n",
    "\n",
    "prompt_template = f\"\"\"Act as a search copilot, be helpful and informative. \\n\n",
    "-------------- \\n\n",
    "Based on the user's query below: \\n\n",
    "'{user_input}'. \\n\n",
    "Here is some information about the query. It has the following information: \\n\n",
    "{vector_db_result}.\n",
    "------------- \\n\n",
    "note: {note}\"\"\"\n",
    "\n",
    "print(llm(prompt_template))"
   ]
  },
  {
   "cell_type": "markdown",
   "metadata": {},
   "source": [
    "In addition to the large, fairly static LLM, the sports league owns or can access many other information sources, including databases, data warehouses, documents containing player bios, and news feeds that discuss each game in depth. RAG lets the generative AI ingest this information. Now, the chat can provide information that’s more timely, more contextually appropriate, and more accurate."
   ]
  }
 ],
 "metadata": {
  "kernelspec": {
   "display_name": "Python 3",
   "language": "python",
   "name": "python3"
  },
  "language_info": {
   "codemirror_mode": {
    "name": "ipython",
    "version": 3
   },
   "file_extension": ".py",
   "mimetype": "text/x-python",
   "name": "python",
   "nbconvert_exporter": "python",
   "pygments_lexer": "ipython3",
   "version": "3.10.13"
  },
  "orig_nbformat": 4
 },
 "nbformat": 4,
 "nbformat_minor": 2
}
